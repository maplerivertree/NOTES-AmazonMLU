{
 "cells": [
  {
   "cell_type": "markdown",
   "metadata": {},
   "source": [
    "Feature engineering: <br>Using domain and data knowledge to create novel features as inputs for ML models, Often more art than science\n",
    "<br><br>\n",
    "Some rules of thumb <br>\n",
    "•Use intuition: “What information would a human use to predict?”\n",
    "<br>•Try generating many features, then apply dimensionality reduction if needed<br>•Consider transformations of attributes (e.g., squaring)<br>•Consider combinations of attributes (e.g., multiplication)<br>•Do not overthink or include too much manual logic (balance with the 1st rule about intuition...)<br><br>•scikit-learn:sklearn.feature_extraction"
   ]
  },
  {
   "cell_type": "markdown",
   "metadata": {},
   "source": [
    "========================================================<br>\n",
    "\n",
    "1. Scaling"
   ]
  },
  {
   "cell_type": "code",
   "execution_count": 22,
   "metadata": {},
   "outputs": [
    {
     "name": "stdout",
     "output_type": "stream",
     "text": [
      "[[2 3 4]\n",
      " [3 4 5]] \n",
      "\n",
      " [[-1. -1. -1.]\n",
      " [ 1.  1.  1.]] \n",
      "\n",
      " [[0. 0. 0.]\n",
      " [1. 1. 1.]]\n"
     ]
    },
    {
     "name": "stderr",
     "output_type": "stream",
     "text": [
      "C:\\Users\\joshuang\\AppData\\Local\\Continuum\\anaconda3\\lib\\site-packages\\sklearn\\utils\\validation.py:595: DataConversionWarning: Data with input dtype int32 was converted to float64 by StandardScaler.\n",
      "  warnings.warn(msg, DataConversionWarning)\n",
      "C:\\Users\\joshuang\\AppData\\Local\\Continuum\\anaconda3\\lib\\site-packages\\sklearn\\utils\\validation.py:595: DataConversionWarning: Data with input dtype int32 was converted to float64 by StandardScaler.\n",
      "  warnings.warn(msg, DataConversionWarning)\n",
      "C:\\Users\\joshuang\\AppData\\Local\\Continuum\\anaconda3\\lib\\site-packages\\sklearn\\utils\\validation.py:595: DataConversionWarning: Data with input dtype int32 was converted to float64 by MinMaxScaler.\n",
      "  warnings.warn(msg, DataConversionWarning)\n"
     ]
    }
   ],
   "source": [
    "from sklearn.preprocessing import StandardScaler, MinMaxScaler\n",
    "std_scaler = StandardScaler()\n",
    "mm_scaler = MinMaxScaler()\n",
    "import numpy as np\n",
    "data = np.array([[2,3,4], [3,4,5]])\n",
    "scaled_data_std = std_scaler.fit_transform(data)\n",
    "scaled_data_mm = mm_scaler.fit_transform(data)\n",
    "\n",
    "print(data, \"\\n\\n\", scaled_data_std, \"\\n\\n\",scaled_data_mm)"
   ]
  },
  {
   "cell_type": "markdown",
   "metadata": {},
   "source": [
    "======================================<br>\n",
    "\n",
    "2. Polynomial Transformation <br>\n",
    "- degree made too high leads to overfitting\n",
    "\n"
   ]
  },
  {
   "cell_type": "code",
   "execution_count": 27,
   "metadata": {},
   "outputs": [
    {
     "name": "stdout",
     "output_type": "stream",
     "text": [
      "[[1]\n",
      " [2]] \n",
      "\n",
      " [[1. 1. 1.]\n",
      " [1. 2. 4.]]\n"
     ]
    }
   ],
   "source": [
    "from sklearn.preprocessing import PolynomialFeatures\n",
    "quadratic = PolynomialFeatures(degree = 2)\n",
    "data = np.array([[1],[2]])\n",
    "X_quad = quadratic.fit_transform(data)\n",
    "print(data, \"\\n\\n\", X_quad)"
   ]
  },
  {
   "cell_type": "code",
   "execution_count": null,
   "metadata": {},
   "outputs": [],
   "source": []
  },
  {
   "cell_type": "code",
   "execution_count": null,
   "metadata": {},
   "outputs": [],
   "source": []
  }
 ],
 "metadata": {
  "kernelspec": {
   "display_name": "Python 3",
   "language": "python",
   "name": "python3"
  },
  "language_info": {
   "codemirror_mode": {
    "name": "ipython",
    "version": 3
   },
   "file_extension": ".py",
   "mimetype": "text/x-python",
   "name": "python",
   "nbconvert_exporter": "python",
   "pygments_lexer": "ipython3",
   "version": "3.7.1"
  }
 },
 "nbformat": 4,
 "nbformat_minor": 2
}

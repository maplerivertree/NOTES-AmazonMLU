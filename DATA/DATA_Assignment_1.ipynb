{
 "cells": [
  {
   "cell_type": "markdown",
   "metadata": {},
   "source": [
    "Load in the handwritten digits dataset using load_digits. This is the dataset we will be working with today. Use matplotlib's imshow to take a look at the first 10 elements of this dataset to see what we are dealing with (reshape them back into images)."
   ]
  },
  {
   "cell_type": "code",
   "execution_count": 6,
   "metadata": {},
   "outputs": [
    {
     "name": "stdout",
     "output_type": "stream",
     "text": [
      "shape of X:  (1797, 8, 8)\n",
      "shape of y:  (1797,)\n"
     ]
    },
    {
     "data": {
      "image/png": "[encoded data removed]",
      "text/plain": [
       "<Figure size 432x288 with 10 Axes>"
      ]
     },
     "metadata": {
      "needs_background": "light"
     },
     "output_type": "display_data"
    }
   ],
   "source": [
    "import matplotlib.pyplot as plt\n",
    "import numpy as np\n",
    "from sklearn import datasets\n",
    "#from sklearn import svm, metrics\n",
    "digits = datasets.load_digits()\n",
    "X = digits.images\n",
    "y = digits.target\n",
    "print(\"shape of X: \", X.shape)\n",
    "print(\"shape of y: \", y.shape)\n",
    "for i in np.arange(10):\n",
    "    plt.subplot(2, 5, i+1)\n",
    "    plt.imshow(X[i])\n",
    "  #  plt.show()\n",
    "#print(X[:5])"
   ]
  },
  {
   "cell_type": "markdown",
   "metadata": {},
   "source": [
    "First experiment with the dataset as an unsupervised learning problem---that is ignoring the class labels that we were provided. In particular, we will investigate attempting to cluster these digits using K-means. We know that there are 10 classes to work with, so we will start with K=10."
   ]
  },
  {
   "cell_type": "code",
   "execution_count": 2,
   "metadata": {},
   "outputs": [
    {
     "name": "stdout",
     "output_type": "stream",
     "text": [
      "X_.shape=  (1797, 64)\n",
      "kmeans.cluster_centers_.shape=  (10, 64)\n"
     ]
    },
    {
     "data": {
      "image/png": "[encoded data removed]",
      "text/plain": [
       "<Figure size 432x288 with 10 Axes>"
      ]
     },
     "metadata": {
      "needs_background": "light"
     },
     "output_type": "display_data"
    }
   ],
   "source": [
    "# UNsupervised Testing using k-means\n",
    "# (my first unsupervised try)\n",
    "from sklearn.cluster import KMeans\n",
    "\n",
    "X_ = X.reshape(-1, 64)\n",
    "kmeans = KMeans(n_clusters=10, random_state=821150).fit(X_)\n",
    "\n",
    "print(\"X_.shape= \", X_.shape)\n",
    "print(\"kmeans.cluster_centers_.shape= \", kmeans.cluster_centers_.shape)\n",
    "\n",
    "for cluster_index in np.arange(10):\n",
    "    plt.subplot(2, 5, cluster_index +1)\n",
    "    plt.imshow(kmeans.cluster_centers_[cluster_index].reshape(8,8))\n",
    "    #plt.show()"
   ]
  },
  {
   "cell_type": "markdown",
   "metadata": {},
   "source": [
    "Comments:\n",
    "\n",
    "Are there cluster centers clearly for all 10 digit classes?\n",
    "\n",
    "No; digit 1, 7, 9 seem to have duplicates (or missing) when k =10\n",
    "\n",
    "How about what happens if you have the number of cluster centers wrong: say 4 or 12?\n",
    "\n",
    "When K = 12, all 0-9 digits are identifiable, but with duplicates of 1s, and 7s\n",
    "When K = 4, there will be only 4 digits, and they are distinct from each other."
   ]
  },
  {
   "cell_type": "code",
   "execution_count": 3,
   "metadata": {},
   "outputs": [
    {
     "name": "stdout",
     "output_type": "stream",
     "text": [
      "y_kmeans_clusters.shape=  (10,)\n",
      "cluster_centers: [0 1 2 3 4 5 6 7 8 9]\n"
     ]
    }
   ],
   "source": [
    "#y_kmeans_X = kmeans.predict(X_) # == kmeans.labels_\n",
    "y_kmeans_clusters = kmeans.predict(kmeans.cluster_centers_)\n",
    "\n",
    "#print(\"k_means.labels.shape= \",kmeans.labels_.shape)\n",
    "#print(\"y_kmeans_X.shape= \", y_kmeans_X.shape)\n",
    "print(\"y_kmeans_clusters.shape= \", y_kmeans_clusters.shape)\n",
    "\n",
    "print(\"cluster_centers:\", y_kmeans_clusters)\n",
    "\n"
   ]
  },
  {
   "cell_type": "markdown",
   "metadata": {},
   "source": [
    "Implement logistic regression to try to predict digit labels. Much like the cluster centers from before, each class has an associated weight vector what is used specify the class, so please plot those to see how the class decision is being made. Can you identify the digit classes now from the weights?"
   ]
  },
  {
   "cell_type": "code",
   "execution_count": 4,
   "metadata": {},
   "outputs": [
    {
     "name": "stderr",
     "output_type": "stream",
     "text": [
      "C:\\Users\\joshuang\\AppData\\Local\\Continuum\\anaconda3\\lib\\site-packages\\sklearn\\linear_model\\logistic.py:758: ConvergenceWarning: lbfgs failed to converge. Increase the number of iterations.\n",
      "  \"of iterations.\", ConvergenceWarning)\n"
     ]
    },
    {
     "data": {
      "image/png": "[encoded data removed]",
      "text/plain": [
       "<Figure size 432x288 with 10 Axes>"
      ]
     },
     "metadata": {
      "needs_background": "light"
     },
     "output_type": "display_data"
    }
   ],
   "source": [
    "from sklearn.linear_model import LogisticRegression\n",
    "clf = LogisticRegression(random_state = 821150, multi_class = \"multinomial\", solver = \"lbfgs\").fit(X.reshape(-1, 64), y)\n",
    "clf.classes_\n",
    "clf.coef_.shape\n",
    "\n",
    "for clf_cluster_index in np.arange(10):\n",
    "    plt.subplot(2, 5, clf_cluster_index +1)\n",
    "    plt.imshow(clf.coef_[clf_cluster_index].reshape(8,8))\n",
    "    #plt.show()"
   ]
  },
  {
   "cell_type": "code",
   "execution_count": 5,
   "metadata": {},
   "outputs": [
    {
     "data": {
      "text/plain": [
       "array([0, 1, 2, 3, 4, 5, 6, 7, 8, 9])"
      ]
     },
     "execution_count": 5,
     "metadata": {},
     "output_type": "execute_result"
    }
   ],
   "source": [
    "clf.predict(clf.coef_)"
   ]
  }
 ],
 "metadata": {
  "kernelspec": {
   "display_name": "Python 3",
   "language": "python",
   "name": "python3"
  },
  "language_info": {
   "codemirror_mode": {
    "name": "ipython",
    "version": 3
   },
   "file_extension": ".py",
   "mimetype": "text/x-python",
   "name": "python",
   "nbconvert_exporter": "python",
   "pygments_lexer": "ipython3",
   "version": "3.7.1"
  }
 },
 "nbformat": 4,
 "nbformat_minor": 2
}

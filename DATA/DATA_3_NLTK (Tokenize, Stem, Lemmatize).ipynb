{
 "cells": [
  {
   "cell_type": "markdown",
   "metadata": {},
   "source": [
    "\n",
    "<br>\n",
    "<br>\n",
    "-- Replace punctuation with space  <br>\n",
    "re.compile('[%s]' % -- re.escape(string.punctuation)).sub(' ', text) <br>\n",
    "--Collapse adjacent spaces and tabs to one space <br>\n",
    "--Remove or replace special characters (e.g., naïve to naive) <br>\n",
    "--Remove markup (e.g., HTML)"
   ]
  },
  {
   "cell_type": "code",
   "execution_count": null,
   "metadata": {},
   "outputs": [],
   "source": [
    "# USE nltk \n",
    "# Natural Language Tool Kit\n",
    "\n",
    "import nltk\n",
    "nltk.download('punkt', download_dir='/tmp/')\n",
    "nltk.download('wordnet', download_dir='/tmp/')\n",
    "nltk.download('stopwords', download_dir='/tmp/')\n",
    "nltk.data.path.append(\"tmp\")"
   ]
  },
  {
   "cell_type": "code",
   "execution_count": null,
   "metadata": {},
   "outputs": [],
   "source": [
    "from nltk.tokenize import word_tokenize\n",
    "\n",
    "text = 'It started with a childhood visit to colourful Morocoo. Vivid images of the markets filled with dry roasted pistachios, almonds, cherries and pomegranate. We brought my favourites together with a touch of lemon and a pinch of black pepper.'\n",
    "\n",
    "tokens = word_tokenize(text)\n",
    "tokens"
   ]
  },
  {
   "cell_type": "markdown",
   "metadata": {},
   "source": [
    "STEMMING <br>\n",
    "https://en.wikipedia.org/wiki/Stemming"
   ]
  },
  {
   "cell_type": "code",
   "execution_count": null,
   "metadata": {},
   "outputs": [],
   "source": [
    "from nltk.stem.porter import PorterStemmer\n",
    "porter = PorterStemmer()\n",
    "for i in tokens: \n",
    "    print(porter.stem(i))\n",
    "\n",
    "#MORE AGGRESIVE - lANCASTER sTEMMER\n",
    "\n",
    "from nltk.setm.lancaster import LancasterStemmer\n",
    "lancaster = LancasterStemmer()\n"
   ]
  },
  {
   "cell_type": "markdown",
   "metadata": {},
   "source": [
    "Lemmatization\n",
    "<br> - ensures root word (lemma) is a proper word\n",
    "\n",
    "<br> - this ensures more accurate stemming\n",
    "<br> - trading off speed\n"
   ]
  },
  {
   "cell_type": "code",
   "execution_count": null,
   "metadata": {},
   "outputs": [],
   "source": [
    "from nltk.stem import WordNetLemmatizer\n",
    "lm = WordNetLemmatizer()\n",
    "\n",
    "for i in tokens:\n",
    "    print(lm.lemmatize(word, pos = 'v')) # pos  is the part-of-speech\n",
    "    \n",
    "    "
   ]
  }
 ],
 "metadata": {
  "kernelspec": {
   "display_name": "Python 3",
   "language": "python",
   "name": "python3"
  },
  "language_info": {
   "codemirror_mode": {
    "name": "ipython",
    "version": 3
   },
   "file_extension": ".py",
   "mimetype": "text/x-python",
   "name": "python",
   "nbconvert_exporter": "python",
   "pygments_lexer": "ipython3",
   "version": "3.7.1"
  }
 },
 "nbformat": 4,
 "nbformat_minor": 2
}

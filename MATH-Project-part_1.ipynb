{
 "cells": [
  {
   "cell_type": "code",
   "execution_count": null,
   "metadata": {},
   "outputs": [],
   "source": [
    "### Importing the Data ###\n",
    "\n",
    "# Load training data\n",
    "eider.s3.download('s3://eider-datasets/mlu/Book_Ratings.csv', '/tmp/Book_Ratings.csv')\n",
    "data = pd.read_csv('tmp/Book_Ratings.csv', dtype = {'User': str, 'ASIN': str, 'Rating': np.int})\n",
    "\n",
    "print(\"Sample Data\")\n",
    "print(\"-----------\")\n",
    "print(data.sample(20))\n",
    "\n",
    "# Count number of unique users and number of unique ASINs in our dataset\n",
    "uniqueUsers = data['User'].unique().tolist()\n",
    "uniqueASINs = data['ASIN'].unique().tolist()\n",
    "reviews = data['Rating'].tolist()\n",
    "numUser = len(uniqueUsers)\n",
    "numASIN = len(uniqueASINs)\n",
    "numR = len(reviews)\n",
    "\n",
    "# Split to train and test\n",
    "train, test = train_test_split(data, random_state = 8675309, stratify = data['ASIN'])\n",
    "num_train = train.shape[0]\n",
    "num_test = test.shape[0]\n",
    "\n",
    "print(\"Number of unique Users: {}\".format(numUser))\n",
    "print(\"Number of unique ASINs: {}\".format(numASIN))\n",
    "print(\"Number of reviews: {}\".format(numR))\n",
    "\n",
    "\n",
    "\n",
    "#print(b)"
   ]
  },
  {
   "cell_type": "code",
   "execution_count": null,
   "metadata": {},
   "outputs": [],
   "source": [
    "#PROJECT QUESTION 1\n",
    "#'Counter' turn each entry's count into a disctionary format\n",
    "from collections import Counter \n",
    "dic_num_review_byUser = Counter(train['User'])\n",
    "dic_num_review_byASIN = Counter(train['ASIN'])\n",
    "\n",
    "\n",
    "#------------- Histogram\n",
    "#turn the number of reviews by each distinct users into a list for plotting\n",
    "\n",
    "list_num_review_byUser = list(dic_num_review_byUser.values())\n",
    "#plot histogram\n",
    "plt.figure(1), plt.title('histogram: number of reviews a user gives'), plt.ylabel('number of users'), plt.xlabel('number of reviews')\n",
    "n, bins, patches = plt.hist(x = list_num_review_byUser, bins = \"auto\")\n",
    "\n",
    "\n",
    "#-------------- Scatter Graph\n",
    "#sort the dictionary (via counter) based on 'ASIN'\n",
    "#sort the dataframe (via groupby) based on 'ASIN'. \n",
    "#turn the values in the dictionary into a list\n",
    "#add this list as a new column in the dataframe\n",
    "#use the two columns in the dataframe to create the scatter graph\n",
    "reviews_received=[]\n",
    "sorted_dic_num_review_byASIN = sorted(dic_num_review_byASIN.items(), key = lambda item:item[0])\n",
    "for k, v in sorted_dic_num_review_byASIN:\n",
    "    reviews_received.append(v)\n",
    "# take averge in data frame\n",
    "#https://stackoverflow.com/questions/30328646/python-pandas-group-by-in-group-by-and-average\n",
    "df_groupby = train.groupby(['ASIN']).mean().reset_index()\n",
    "sorted_df_groupby = df_groupby.sort_values(by = ['ASIN'])\n",
    "\n",
    "#add a column in the dataframe using a list\n",
    "sorted_df_groupby['Reviews_Received'] = reviews_received\n",
    "print(k[0:5])\n",
    "plt.figure(2), plt.title('average rating vs. the number of reviews received'), plt.ylabel('number of review'), plt.xlabel('average rating')\n",
    "plt.scatter(sorted_df_groupby.Rating,sorted_df_groupby.Reviews_Received)\n"
   ]
  },
  {
   "cell_type": "code",
   "execution_count": 7,
   "metadata": {},
   "outputs": [],
   "source": [
    "from sklearn.preprocessing import Binarizer\n",
    " \n",
    "binarizer = Binarizer().fit(X)\n",
    "\n",
    "S_train = train.pivot_table(index='User', columns='ASIN', values='Rating', fill_value=0).as_matrix()\n",
    "R_train = binarizer.transform(R_train)\n",
    "S_test = test.pivot_table(index='User', columns='ASIN', values='Rating', fill_value=0).as_matrix()\n",
    "R_test = binarizer.transform(R_test)\n",
    "\n",
    "print(S_train.shape)\n",
    "print(S_test.shape)"
   ]
  },
  {
   "cell_type": "code",
   "execution_count": null,
   "metadata": {},
   "outputs": [],
   "source": []
  },
  {
   "cell_type": "code",
   "execution_count": null,
   "metadata": {},
   "outputs": [],
   "source": []
  },
  {
   "cell_type": "code",
   "execution_count": null,
   "metadata": {},
   "outputs": [],
   "source": []
  },
  {
   "cell_type": "code",
   "execution_count": null,
   "metadata": {},
   "outputs": [],
   "source": []
  }
 ],
 "metadata": {
  "kernelspec": {
   "display_name": "Python 3",
   "language": "python",
   "name": "python3"
  },
  "language_info": {
   "codemirror_mode": {
    "name": "ipython",
    "version": 3
   },
   "file_extension": ".py",
   "mimetype": "text/x-python",
   "name": "python",
   "nbconvert_exporter": "python",
   "pygments_lexer": "ipython3",
   "version": "3.7.1"
  }
 },
 "nbformat": 4,
 "nbformat_minor": 2
}

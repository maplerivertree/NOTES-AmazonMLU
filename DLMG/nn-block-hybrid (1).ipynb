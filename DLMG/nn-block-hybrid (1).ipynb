{
 "cells": [
  {
   "cell_type": "code",
   "execution_count": 1,
   "metadata": {
    "slideshow": {
     "slide_type": "skip"
    }
   },
   "outputs": [],
   "source": [
    "from utils import *\n",
    "%matplotlib inline"
   ]
  },
  {
   "cell_type": "markdown",
   "metadata": {
    "slideshow": {
     "slide_type": "slide"
    }
   },
   "source": [
    "# Create a neural network"
   ]
  },
  {
   "cell_type": "markdown",
   "metadata": {
    "slideshow": {
     "slide_type": "fragment"
    }
   },
   "source": [
    "<center><img src=\"support/neuralnetwork.gif\" width=500></center>"
   ]
  },
  {
   "cell_type": "markdown",
   "metadata": {
    "slideshow": {
     "slide_type": "notes"
    }
   },
   "source": [
    "Now let's look how to create neural networks in Gluon. In addition the NDArray package (`nd`) that we just covered, we now will also import the neural network `nn` package from `gluon`."
   ]
  },
  {
   "cell_type": "code",
   "execution_count": 2,
   "metadata": {
    "attributes": {
     "classes": [],
     "id": "",
     "n": "2"
    },
    "slideshow": {
     "slide_type": "fragment"
    }
   },
   "outputs": [],
   "source": [
    "import mxnet as mx\n",
    "\n",
    "from mxnet import nd\n",
    "from mxnet.gluon import nn"
   ]
  },
  {
   "cell_type": "markdown",
   "metadata": {
    "slideshow": {
     "slide_type": "slide"
    }
   },
   "source": [
    "## Create your first neural network layer"
   ]
  },
  {
   "cell_type": "markdown",
   "metadata": {
    "slideshow": {
     "slide_type": "notes"
    }
   },
   "source": [
    "Let's start with a dense layer with 2 output units.\n",
    "The None is because there hasn't been any data passed in yet"
   ]
  },
  {
   "cell_type": "markdown",
   "metadata": {
    "slideshow": {
     "slide_type": "fragment"
    }
   },
   "source": [
    "<center><img src=\"support/fullyconnected.png\" width=400></center>"
   ]
  },
  {
   "cell_type": "code",
   "execution_count": 3,
   "metadata": {
    "attributes": {
     "classes": [],
     "id": "",
     "n": "31"
    },
    "slideshow": {
     "slide_type": "fragment"
    }
   },
   "outputs": [
    {
     "data": {
      "text/plain": [
       "Dense(None -> 2, Activation(relu))"
      ]
     },
     "execution_count": 3,
     "metadata": {},
     "output_type": "execute_result"
    }
   ],
   "source": [
    "layer = nn.Dense(2, activation=\"relu\")\n",
    "layer"
   ]
  },
  {
   "cell_type": "markdown",
   "metadata": {
    "slideshow": {
     "slide_type": "notes"
    }
   },
   "source": [
    "Then initialize its weights with the default initialization method, which draws random values uniformly from $[-0.7, 0.7]$."
   ]
  },
  {
   "cell_type": "markdown",
   "metadata": {
    "slideshow": {
     "slide_type": "slide"
    }
   },
   "source": [
    "Initialization"
   ]
  },
  {
   "cell_type": "code",
   "execution_count": 4,
   "metadata": {
    "slideshow": {
     "slide_type": "fragment"
    }
   },
   "outputs": [
    {
     "data": {
      "text/plain": [
       "dense0_ (\n",
       "  Parameter dense0_weight (shape=(2, 0), dtype=float32)\n",
       "  Parameter dense0_bias (shape=(2,), dtype=float32)\n",
       ")"
      ]
     },
     "execution_count": 4,
     "metadata": {},
     "output_type": "execute_result"
    }
   ],
   "source": [
    "layer.params"
   ]
  },
  {
   "cell_type": "code",
   "execution_count": 5,
   "metadata": {
    "attributes": {
     "classes": [],
     "id": "",
     "n": "32"
    },
    "slideshow": {
     "slide_type": "fragment"
    }
   },
   "outputs": [],
   "source": [
    "layer.initialize(mx.init.Xavier())"
   ]
  },
  {
   "cell_type": "markdown",
   "metadata": {
    "slideshow": {
     "slide_type": "notes"
    }
   },
   "source": [
    "Then we do a forward pass with random data. We create a $(3,4)$ shape random input `x` and feed into the layer to compute the output."
   ]
  },
  {
   "cell_type": "markdown",
   "metadata": {
    "slideshow": {
     "slide_type": "slide"
    }
   },
   "source": [
    "Get model prediction for input `x`"
   ]
  },
  {
   "cell_type": "code",
   "execution_count": 6,
   "metadata": {
    "attributes": {
     "classes": [],
     "id": "",
     "n": "34"
    },
    "slideshow": {
     "slide_type": "fragment"
    }
   },
   "outputs": [
    {
     "data": {
      "text/plain": [
       "\n",
       "[[ 0.09762704  0.18568921  0.43037868  0.6885315 ]\n",
       " [ 0.20552671  0.71589124  0.08976638  0.6945034 ]\n",
       " [-0.15269041  0.24712741  0.29178822 -0.23123658]]\n",
       "<NDArray 3x4 @cpu(0)>"
      ]
     },
     "execution_count": 6,
     "metadata": {},
     "output_type": "execute_result"
    }
   ],
   "source": [
    "N = 3\n",
    "x = nd.random.uniform(low=-1, high=1, shape=(N, 4))\n",
    "x"
   ]
  },
  {
   "cell_type": "code",
   "execution_count": 7,
   "metadata": {
    "attributes": {
     "classes": [],
     "id": "",
     "n": "34"
    },
    "slideshow": {
     "slide_type": "fragment"
    }
   },
   "outputs": [
    {
     "data": {
      "text/plain": [
       "\n",
       "[[-0.       -0.      ]\n",
       " [-0.       -0.      ]\n",
       " [ 0.352628 -0.      ]]\n",
       "<NDArray 3x2 @cpu(0)>"
      ]
     },
     "execution_count": 7,
     "metadata": {},
     "output_type": "execute_result"
    }
   ],
   "source": [
    "output = layer(x)\n",
    "output"
   ]
  },
  {
   "cell_type": "markdown",
   "metadata": {
    "slideshow": {
     "slide_type": "slide"
    }
   },
   "source": [
    "Inferred shape"
   ]
  },
  {
   "cell_type": "code",
   "execution_count": 8,
   "metadata": {
    "slideshow": {
     "slide_type": "fragment"
    }
   },
   "outputs": [
    {
     "data": {
      "text/plain": [
       "dense0_ (\n",
       "  Parameter dense0_weight (shape=(2, 4), dtype=float32)\n",
       "  Parameter dense0_bias (shape=(2,), dtype=float32)\n",
       ")"
      ]
     },
     "execution_count": 8,
     "metadata": {},
     "output_type": "execute_result"
    }
   ],
   "source": [
    "layer.params"
   ]
  },
  {
   "cell_type": "markdown",
   "metadata": {
    "slideshow": {
     "slide_type": "notes"
    }
   },
   "source": [
    "As can be seen, the layer's input limit of 2 produced a $(3,2)$ shape output from our $(3,4)$ input. Note that we didn't specify the input size of `layer` before (though we can specify it with the argument `in_units=4` here), the system will automatically infer it during the first time we feed in data, create and initialize the weights. So we can access the weight after the first forward pass:"
   ]
  },
  {
   "cell_type": "markdown",
   "metadata": {
    "slideshow": {
     "slide_type": "slide"
    }
   },
   "source": [
    "Weights"
   ]
  },
  {
   "cell_type": "code",
   "execution_count": 9,
   "metadata": {
    "attributes": {
     "classes": [],
     "id": "",
     "n": "35"
    },
    "slideshow": {
     "slide_type": "fragment"
    }
   },
   "outputs": [
    {
     "data": {
      "text/plain": [
       "\n",
       "[[-0.1248256  -0.40493077  0.783546   -0.88657403]\n",
       " [ 0.9273255  -0.45468742 -0.23311698 -0.04466975]]\n",
       "<NDArray 2x4 @cpu(0)>"
      ]
     },
     "execution_count": 9,
     "metadata": {},
     "output_type": "execute_result"
    }
   ],
   "source": [
    "layer.weight.data()"
   ]
  },
  {
   "cell_type": "markdown",
   "metadata": {
    "slideshow": {
     "slide_type": "slide"
    }
   },
   "source": [
    "## Chain layers into a neural network"
   ]
  },
  {
   "cell_type": "markdown",
   "metadata": {
    "slideshow": {
     "slide_type": "notes"
    }
   },
   "source": [
    "Let's first consider a simple case that a neural network is a chain of layers. During the forward pass, we run layers sequentially one-by-one."
   ]
  },
  {
   "cell_type": "code",
   "execution_count": 10,
   "metadata": {
    "slideshow": {
     "slide_type": "slide"
    }
   },
   "outputs": [
    {
     "data": {
      "text/plain": [
       "Sequential(\n",
       "  (0): Dense(None -> 120, Activation(relu))\n",
       "  (1): Dense(None -> 84, Activation(relu))\n",
       "  (2): Dense(None -> 10, linear)\n",
       ")"
      ]
     },
     "execution_count": 10,
     "metadata": {},
     "output_type": "execute_result"
    }
   ],
   "source": [
    "net = nn.Sequential()\n",
    "with net.name_scope():\n",
    "    # Add a sequence of layers.\n",
    "    net.add(\n",
    "        nn.Dense(120, activation=\"relu\"),\n",
    "        nn.Dense(84, activation=\"relu\"),\n",
    "        nn.Dense(10)\n",
    "    )\n",
    "net"
   ]
  },
  {
   "cell_type": "code",
   "execution_count": 11,
   "metadata": {
    "scrolled": false,
    "slideshow": {
     "slide_type": "slide"
    }
   },
   "outputs": [
    {
     "data": {
      "image/svg+xml": [
       "<?xml version=\"1.0\" encoding=\"UTF-8\" standalone=\"no\"?>\n",
       "<!DOCTYPE svg PUBLIC \"-//W3C//DTD SVG 1.1//EN\"\n",
       " \"http://www.w3.org/Graphics/SVG/1.1/DTD/svg11.dtd\">\n",
       "<!-- Generated by graphviz version 2.40.1 (20161225.0304)\n",
       " -->\n",
       "<!-- Title: plot Pages: 1 -->\n",
       "<svg width=\"144pt\" height=\"611pt\"\n",
       " viewBox=\"0.00 0.00 144.34 611.00\" xmlns=\"http://www.w3.org/2000/svg\" xmlns:xlink=\"http://www.w3.org/1999/xlink\">\n",
       "<g id=\"graph0\" class=\"graph\" transform=\"scale(1 1) rotate(0) translate(4 607)\">\n",
       "<title>plot</title>\n",
       "<polygon fill=\"#ffffff\" stroke=\"transparent\" points=\"-4,4 -4,-607 140.3373,-607 140.3373,4 -4,4\"/>\n",
       "<!-- data -->\n",
       "<g id=\"node1\" class=\"node\">\n",
       "<title>data</title>\n",
       "<ellipse fill=\"#8dd3c7\" stroke=\"#000000\" cx=\"68.1686\" cy=\"-29\" rx=\"47\" ry=\"29\"/>\n",
       "<text text-anchor=\"middle\" x=\"68.1686\" y=\"-25.3\" font-family=\"Times,serif\" font-size=\"14.00\" fill=\"#000000\">data</text>\n",
       "</g>\n",
       "<!-- sequential0_dense0_fwd -->\n",
       "<g id=\"node2\" class=\"node\">\n",
       "<title>sequential0_dense0_fwd</title>\n",
       "<ellipse fill=\"#fb8072\" stroke=\"#000000\" cx=\"68.1686\" cy=\"-138\" rx=\"68.3377\" ry=\"29\"/>\n",
       "<text text-anchor=\"middle\" x=\"68.1686\" y=\"-141.8\" font-family=\"Times,serif\" font-size=\"14.00\" fill=\"#000000\">FullyConnected</text>\n",
       "<text text-anchor=\"middle\" x=\"68.1686\" y=\"-126.8\" font-family=\"Times,serif\" font-size=\"14.00\" fill=\"#000000\">120</text>\n",
       "</g>\n",
       "<!-- sequential0_dense0_fwd&#45;&gt;data -->\n",
       "<g id=\"edge1\" class=\"edge\">\n",
       "<title>sequential0_dense0_fwd&#45;&gt;data</title>\n",
       "<path fill=\"none\" stroke=\"#000000\" d=\"M68.1686,-98.4838C68.1686,-85.2054 68.1686,-70.6405 68.1686,-58.2906\"/>\n",
       "<polygon fill=\"#000000\" stroke=\"#000000\" points=\"68.1686,-108.79 63.6687,-98.79 68.1687,-103.79 68.1687,-98.79 68.1687,-98.79 68.1687,-98.79 68.1687,-103.79 72.6687,-98.79 68.1686,-108.79 68.1686,-108.79\"/>\n",
       "<text text-anchor=\"middle\" x=\"78.6686\" y=\"-79.8\" font-family=\"Times,serif\" font-size=\"14.00\" fill=\"#000000\">784</text>\n",
       "</g>\n",
       "<!-- sequential0_dense0_relu_fwd -->\n",
       "<g id=\"node3\" class=\"node\">\n",
       "<title>sequential0_dense0_relu_fwd</title>\n",
       "<ellipse fill=\"#ffffb3\" stroke=\"#000000\" cx=\"68.1686\" cy=\"-247\" rx=\"48.9511\" ry=\"29\"/>\n",
       "<text text-anchor=\"middle\" x=\"68.1686\" y=\"-250.8\" font-family=\"Times,serif\" font-size=\"14.00\" fill=\"#000000\">Activation</text>\n",
       "<text text-anchor=\"middle\" x=\"68.1686\" y=\"-235.8\" font-family=\"Times,serif\" font-size=\"14.00\" fill=\"#000000\">relu</text>\n",
       "</g>\n",
       "<!-- sequential0_dense0_relu_fwd&#45;&gt;sequential0_dense0_fwd -->\n",
       "<g id=\"edge2\" class=\"edge\">\n",
       "<title>sequential0_dense0_relu_fwd&#45;&gt;sequential0_dense0_fwd</title>\n",
       "<path fill=\"none\" stroke=\"#000000\" d=\"M68.1686,-207.4838C68.1686,-194.2054 68.1686,-179.6405 68.1686,-167.2906\"/>\n",
       "<polygon fill=\"#000000\" stroke=\"#000000\" points=\"68.1686,-217.79 63.6687,-207.79 68.1687,-212.79 68.1687,-207.79 68.1687,-207.79 68.1687,-207.79 68.1687,-212.79 72.6687,-207.79 68.1686,-217.79 68.1686,-217.79\"/>\n",
       "<text text-anchor=\"middle\" x=\"78.6686\" y=\"-188.8\" font-family=\"Times,serif\" font-size=\"14.00\" fill=\"#000000\">120</text>\n",
       "</g>\n",
       "<!-- sequential0_dense1_fwd -->\n",
       "<g id=\"node4\" class=\"node\">\n",
       "<title>sequential0_dense1_fwd</title>\n",
       "<ellipse fill=\"#fb8072\" stroke=\"#000000\" cx=\"68.1686\" cy=\"-356\" rx=\"68.3377\" ry=\"29\"/>\n",
       "<text text-anchor=\"middle\" x=\"68.1686\" y=\"-359.8\" font-family=\"Times,serif\" font-size=\"14.00\" fill=\"#000000\">FullyConnected</text>\n",
       "<text text-anchor=\"middle\" x=\"68.1686\" y=\"-344.8\" font-family=\"Times,serif\" font-size=\"14.00\" fill=\"#000000\">84</text>\n",
       "</g>\n",
       "<!-- sequential0_dense1_fwd&#45;&gt;sequential0_dense0_relu_fwd -->\n",
       "<g id=\"edge3\" class=\"edge\">\n",
       "<title>sequential0_dense1_fwd&#45;&gt;sequential0_dense0_relu_fwd</title>\n",
       "<path fill=\"none\" stroke=\"#000000\" d=\"M68.1686,-316.4838C68.1686,-303.2054 68.1686,-288.6405 68.1686,-276.2906\"/>\n",
       "<polygon fill=\"#000000\" stroke=\"#000000\" points=\"68.1686,-326.79 63.6687,-316.79 68.1687,-321.79 68.1687,-316.79 68.1687,-316.79 68.1687,-316.79 68.1687,-321.79 72.6687,-316.79 68.1686,-326.79 68.1686,-326.79\"/>\n",
       "<text text-anchor=\"middle\" x=\"78.6686\" y=\"-297.8\" font-family=\"Times,serif\" font-size=\"14.00\" fill=\"#000000\">120</text>\n",
       "</g>\n",
       "<!-- sequential0_dense1_relu_fwd -->\n",
       "<g id=\"node5\" class=\"node\">\n",
       "<title>sequential0_dense1_relu_fwd</title>\n",
       "<ellipse fill=\"#ffffb3\" stroke=\"#000000\" cx=\"68.1686\" cy=\"-465\" rx=\"48.9511\" ry=\"29\"/>\n",
       "<text text-anchor=\"middle\" x=\"68.1686\" y=\"-468.8\" font-family=\"Times,serif\" font-size=\"14.00\" fill=\"#000000\">Activation</text>\n",
       "<text text-anchor=\"middle\" x=\"68.1686\" y=\"-453.8\" font-family=\"Times,serif\" font-size=\"14.00\" fill=\"#000000\">relu</text>\n",
       "</g>\n",
       "<!-- sequential0_dense1_relu_fwd&#45;&gt;sequential0_dense1_fwd -->\n",
       "<g id=\"edge4\" class=\"edge\">\n",
       "<title>sequential0_dense1_relu_fwd&#45;&gt;sequential0_dense1_fwd</title>\n",
       "<path fill=\"none\" stroke=\"#000000\" d=\"M68.1686,-425.4838C68.1686,-412.2054 68.1686,-397.6405 68.1686,-385.2906\"/>\n",
       "<polygon fill=\"#000000\" stroke=\"#000000\" points=\"68.1686,-435.79 63.6687,-425.79 68.1687,-430.79 68.1687,-425.79 68.1687,-425.79 68.1687,-425.79 68.1687,-430.79 72.6687,-425.79 68.1686,-435.79 68.1686,-435.79\"/>\n",
       "<text text-anchor=\"middle\" x=\"75.1686\" y=\"-406.8\" font-family=\"Times,serif\" font-size=\"14.00\" fill=\"#000000\">84</text>\n",
       "</g>\n",
       "<!-- sequential0_dense2_fwd -->\n",
       "<g id=\"node6\" class=\"node\">\n",
       "<title>sequential0_dense2_fwd</title>\n",
       "<ellipse fill=\"#fb8072\" stroke=\"#000000\" cx=\"68.1686\" cy=\"-574\" rx=\"68.3377\" ry=\"29\"/>\n",
       "<text text-anchor=\"middle\" x=\"68.1686\" y=\"-577.8\" font-family=\"Times,serif\" font-size=\"14.00\" fill=\"#000000\">FullyConnected</text>\n",
       "<text text-anchor=\"middle\" x=\"68.1686\" y=\"-562.8\" font-family=\"Times,serif\" font-size=\"14.00\" fill=\"#000000\">10</text>\n",
       "</g>\n",
       "<!-- sequential0_dense2_fwd&#45;&gt;sequential0_dense1_relu_fwd -->\n",
       "<g id=\"edge5\" class=\"edge\">\n",
       "<title>sequential0_dense2_fwd&#45;&gt;sequential0_dense1_relu_fwd</title>\n",
       "<path fill=\"none\" stroke=\"#000000\" d=\"M68.1686,-534.4838C68.1686,-521.2054 68.1686,-506.6405 68.1686,-494.2906\"/>\n",
       "<polygon fill=\"#000000\" stroke=\"#000000\" points=\"68.1686,-544.79 63.6687,-534.79 68.1687,-539.79 68.1687,-534.79 68.1687,-534.79 68.1687,-534.79 68.1687,-539.79 72.6687,-534.79 68.1686,-544.79 68.1686,-544.79\"/>\n",
       "<text text-anchor=\"middle\" x=\"75.1686\" y=\"-515.8\" font-family=\"Times,serif\" font-size=\"14.00\" fill=\"#000000\">84</text>\n",
       "</g>\n",
       "</g>\n",
       "</svg>\n"
      ],
      "text/plain": [
       "<graphviz.dot.Digraph at 0x7f6089cc0240>"
      ]
     },
     "execution_count": 11,
     "metadata": {},
     "output_type": "execute_result"
    }
   ],
   "source": [
    "mx.viz.plot_network(net(mx.sym.var('data')), \n",
    "                    shape={\"data\":(10, 784)},\n",
    "                    node_attrs={\"shape\":\"oval\",\"fixedsize\":\"False\"},\n",
    "                   )"
   ]
  },
  {
   "cell_type": "markdown",
   "metadata": {
    "slideshow": {
     "slide_type": "notes"
    }
   },
   "source": [
    "<!--Mention the tuple option for kernel and stride as an exercise for the reader? Or leave it out as too much info for now?-->\n",
    "\n",
    "The usage of `nn.Sequential` is similar to `nn.Dense`. In fact, both of them are subclasses of `nn.Block`. The following codes show how to initialize the weights and run the forward pass."
   ]
  },
  {
   "cell_type": "markdown",
   "metadata": {
    "slideshow": {
     "slide_type": "slide"
    }
   },
   "source": [
    "Run network"
   ]
  },
  {
   "cell_type": "code",
   "execution_count": 12,
   "metadata": {
    "slideshow": {
     "slide_type": "fragment"
    }
   },
   "outputs": [
    {
     "data": {
      "text/plain": [
       "(10, 10)"
      ]
     },
     "execution_count": 12,
     "metadata": {},
     "output_type": "execute_result"
    }
   ],
   "source": [
    "net.initialize()\n",
    "x = nd.random.uniform(shape=(10, 784))\n",
    "y = net(x)\n",
    "y.shape"
   ]
  },
  {
   "cell_type": "markdown",
   "metadata": {
    "slideshow": {
     "slide_type": "notes"
    }
   },
   "source": [
    "We can use `[]` to index a particular layer. For example, the following\n",
    "accesses the 1st layer's."
   ]
  },
  {
   "cell_type": "markdown",
   "metadata": {
    "slideshow": {
     "slide_type": "slide"
    }
   },
   "source": [
    "Specific layer"
   ]
  },
  {
   "cell_type": "code",
   "execution_count": 13,
   "metadata": {
    "slideshow": {
     "slide_type": "fragment"
    }
   },
   "outputs": [
    {
     "data": {
      "text/plain": [
       "Sequential(\n",
       "  (0): Dense(784 -> 120, Activation(relu))\n",
       "  (1): Dense(120 -> 84, Activation(relu))\n",
       "  (2): Dense(84 -> 10, linear)\n",
       ")"
      ]
     },
     "execution_count": 13,
     "metadata": {},
     "output_type": "execute_result"
    }
   ],
   "source": [
    "net"
   ]
  },
  {
   "cell_type": "code",
   "execution_count": 14,
   "metadata": {
    "slideshow": {
     "slide_type": "fragment"
    }
   },
   "outputs": [
    {
     "data": {
      "text/plain": [
       "'First layer weight shape (120, 784)'"
      ]
     },
     "execution_count": 14,
     "metadata": {},
     "output_type": "execute_result"
    }
   ],
   "source": [
    "\"First layer weight shape {}\".format(net[0].weight.data().shape)"
   ]
  },
  {
   "cell_type": "markdown",
   "metadata": {
    "slideshow": {
     "slide_type": "slide"
    }
   },
   "source": [
    "## Create a neural network flexibly"
   ]
  },
  {
   "cell_type": "markdown",
   "metadata": {
    "slideshow": {
     "slide_type": "fragment"
    }
   },
   "source": [
    "In `nn.Sequential`, MXNet will automatically construct the forward function that sequentially executes added layers.\n",
    "Now let's introduce another way to construct a network with a flexible forward function.\n",
    "\n",
    "To do it, we create a subclass of `nn.Block` and implement two methods:\n",
    "\n",
    "- `__init__` create the layers\n",
    "- `forward` define the forward function."
   ]
  },
  {
   "cell_type": "code",
   "execution_count": 15,
   "metadata": {
    "attributes": {
     "classes": [],
     "id": "",
     "n": "6"
    },
    "slideshow": {
     "slide_type": "slide"
    }
   },
   "outputs": [
    {
     "data": {
      "text/plain": [
       "MixMLP(\n",
       "  (features): Sequential(\n",
       "    (0): Dense(None -> 3, Activation(relu))\n",
       "    (1): Dense(None -> 4, linear)\n",
       "  )\n",
       "  (output): Dense(None -> 5, linear)\n",
       ")"
      ]
     },
     "execution_count": 15,
     "metadata": {},
     "output_type": "execute_result"
    }
   ],
   "source": [
    "class MixMLP(nn.Block):\n",
    "    def __init__(self, **kwargs):\n",
    "        # Run `nn.Block`'s init method\n",
    "        super(MixMLP, self).__init__(**kwargs)\n",
    "        with self.name_scope():\n",
    "            self.features_1 = nn.Sequential()\n",
    "            # Already within a name scope, no need to create\n",
    "            # another scope.\n",
    "            self.features_1.add(\n",
    "                nn.Dense(3, activation='relu'),\n",
    "                nn.Dense(4,activation='relu')\n",
    "            )\n",
    "            self.features_2 = nn.Sequential()\n",
    "            # Already within a name scope, no need to create\n",
    "            # another scope.\n",
    "            self.features_2.add(\n",
    "                nn.Dense(3, activation='relu'),\n",
    "                nn.Dense(4,activation='relu')\n",
    "            )\n",
    "            self.output = nn.Dense(5)\n",
    "    def forward(self, x1, x2):\n",
    "        y1 = self.features_1(x1)\n",
    "        y2 = self.features_2(x2)\n",
    "        y = nd.add(y1, y2)\n",
    "        print(\"Features\", y)\n",
    "        return self.output(y)\n",
    "\n",
    "net2 = MixMLP()\n",
    "net2"
   ]
  },
  {
   "cell_type": "markdown",
   "metadata": {
    "slideshow": {
     "slide_type": "notes"
    }
   },
   "source": [
    "In the sequential chaining approach, we can only add instances with `nn.Block` as the base class and then run them in a forward pass. In this example, we used `print` to get the intermediate results and `nd.relu` to apply relu activation. So this approach provides a more flexible way to define the forward function.\n",
    "\n",
    "The usage of `net` is similar as before."
   ]
  },
  {
   "cell_type": "markdown",
   "metadata": {
    "slideshow": {
     "slide_type": "slide"
    }
   },
   "source": [
    "Print statements"
   ]
  },
  {
   "cell_type": "code",
   "execution_count": 16,
   "metadata": {
    "slideshow": {
     "slide_type": "fragment"
    }
   },
   "outputs": [],
   "source": [
    "net2.initialize()"
   ]
  },
  {
   "cell_type": "code",
   "execution_count": 17,
   "metadata": {
    "slideshow": {
     "slide_type": "fragment"
    }
   },
   "outputs": [
    {
     "name": "stdout",
     "output_type": "stream",
     "text": [
      "Features \n",
      "[[0.00118194 0.         0.         0.        ]\n",
      " [0.00062806 0.00011892 0.         0.00033978]]\n",
      "<NDArray 2x4 @cpu(0)>\n"
     ]
    }
   ],
   "source": [
    "x = nd.random.uniform(shape=(2,2))\n",
    "out = net2(x)"
   ]
  },
  {
   "cell_type": "markdown",
   "metadata": {
    "slideshow": {
     "slide_type": "notes"
    }
   },
   "source": [
    "Finally, let's access a particular layer's weight"
   ]
  },
  {
   "cell_type": "markdown",
   "metadata": {
    "slideshow": {
     "slide_type": "slide"
    }
   },
   "source": [
    "Weight access"
   ]
  },
  {
   "cell_type": "code",
   "execution_count": 18,
   "metadata": {
    "attributes": {
     "classes": [],
     "id": "",
     "n": "8"
    },
    "slideshow": {
     "slide_type": "fragment"
    }
   },
   "outputs": [
    {
     "data": {
      "text/plain": [
       "\n",
       "[[ 0.04872115  0.05109067  0.04302466]\n",
       " [-0.01240446  0.0096741  -0.05040384]\n",
       " [-0.01299434 -0.06534886 -0.06031662]\n",
       " [ 0.06756049  0.02764003 -0.0177393 ]]\n",
       "<NDArray 4x3 @cpu(0)>"
      ]
     },
     "execution_count": 18,
     "metadata": {},
     "output_type": "execute_result"
    }
   ],
   "source": [
    "net2.features[1].weight.data()"
   ]
  },
  {
   "cell_type": "markdown",
   "metadata": {
    "slideshow": {
     "slide_type": "slide"
    }
   },
   "source": [
    "# Fast, portable neural networks with `hybrid`\n",
    "<br>\n",
    "<center><img src=\"support/fast.gif\" width=300><center>"
   ]
  },
  {
   "cell_type": "markdown",
   "metadata": {
    "slideshow": {
     "slide_type": "fragment"
    }
   },
   "source": [
    "First let's understand imperative and symbolic programming"
   ]
  },
  {
   "cell_type": "markdown",
   "metadata": {
    "slideshow": {
     "slide_type": "slide"
    }
   },
   "source": [
    "## Imperative Pseudofunction\n",
    "```\n",
    "def our_function(A, B, C, D):\n",
    "    # Compute some intermediate values\n",
    "    E = basic_function1(A, B)\n",
    "    F = basic_function2(C, D)\n",
    "    \n",
    "    # Produce the thing you really care about\n",
    "    G = basic_function3(E, F)\n",
    "    return G\n",
    "    \n",
    "# Load up some data\n",
    "W = some_stuff()\n",
    "X = some_stuff()\n",
    "Y = some_stuff()\n",
    "Z = some_stuff()\n",
    "    \n",
    "result = our_function(W, X, Y, Z)\n",
    "```"
   ]
  },
  {
   "cell_type": "markdown",
   "metadata": {
    "slideshow": {
     "slide_type": "slide"
    }
   },
   "source": [
    "## Symbolic Pseudofunction\n",
    "\n",
    "```\n",
    "# Placeholders to stand in for real data\n",
    "A = placeholder() \n",
    "B = placeholder()\n",
    "C = placeholder()\n",
    "D = placeholder()\n",
    "\n",
    "# Compute some intermediate values\n",
    "E = symbolic_function1(A, B)\n",
    "F = symbolic_function2(C, D)\n",
    "    \n",
    "# Produce the thing you really care about\n",
    "G = symbolic_function3(E, F)\n",
    "    \n",
    "our_function = library.compile(inputs=[A, B, C, D], outputs=[G])   \n",
    "    \n",
    "# Load up some data\n",
    "W = some_stuff()\n",
    "X = some_stuff()\n",
    "Y = some_stuff()\n",
    "Z = some_stuff()\n",
    "    \n",
    "result = our_function(W, X, Y, Z)\n",
    "```"
   ]
  },
  {
   "cell_type": "markdown",
   "metadata": {
    "slideshow": {
     "slide_type": "slide"
    }
   },
   "source": [
    "## Tradeoffs "
   ]
  },
  {
   "cell_type": "markdown",
   "metadata": {
    "slideshow": {
     "slide_type": "slide"
    }
   },
   "source": [
    "### Imperative Programs Tend to be More Flexible\n",
    "* familiar style faster debugging, means you get to try out more ideas.\n",
    "* the catch is that imperative programs are *comparatively* slow"
   ]
  },
  {
   "cell_type": "markdown",
   "metadata": {
    "slideshow": {
     "slide_type": "slide"
    }
   },
   "source": [
    "### Symbolic Programs Tend to be More Efficient\n",
    "* memory efficiency via reuse for intermediate results/speed optimizations via operator folding\n",
    "* the catch is the tricky indirection of working with placeholders"
   ]
  },
  {
   "cell_type": "markdown",
   "metadata": {
    "slideshow": {
     "slide_type": "slide"
    }
   },
   "source": [
    "## Getting the best of both worlds with MXNet Gluon's `HybridBlock`s\n",
    "\n",
    "\n",
    "**All of MXNet's predefined layers are HybridBlocks.** This means that any network consisting entirely of predefined MXNet layers can be compiled and run at much faster speeds by calling ``.hybridize()``."
   ]
  },
  {
   "cell_type": "markdown",
   "metadata": {
    "slideshow": {
     "slide_type": "slide"
    }
   },
   "source": [
    "## HybridSequential"
   ]
  },
  {
   "cell_type": "code",
   "execution_count": 19,
   "metadata": {
    "slideshow": {
     "slide_type": "fragment"
    }
   },
   "outputs": [
    {
     "name": "stdout",
     "output_type": "stream",
     "text": [
      "=== net(x) ===\n",
      "[[0.03884146 0.20679656]]\n",
      "<NDArray 1x2 @cpu(0)>\n"
     ]
    }
   ],
   "source": [
    "def get_net():\n",
    "    # construct a MLP\n",
    "    net = nn.HybridSequential()\n",
    "    with net.name_scope():\n",
    "        net.add(nn.Dense(256, activation=\"relu\"))\n",
    "        net.add(nn.Dense(128, activation=\"relu\"))\n",
    "        net.add(nn.Dense(2))\n",
    "    # initialize the parameters\n",
    "    net.collect_params().initialize()\n",
    "    return net\n",
    "\n",
    "# forward\n",
    "x = nd.random_normal(shape=(1, 512))\n",
    "net = get_net()\n",
    "print('=== net(x) ==={}'.format(net(x)))"
   ]
  },
  {
   "cell_type": "code",
   "execution_count": 20,
   "metadata": {
    "slideshow": {
     "slide_type": "fragment"
    }
   },
   "outputs": [
    {
     "name": "stdout",
     "output_type": "stream",
     "text": [
      "=== net(x) ===\n",
      "[[0.03884146 0.20679656]]\n",
      "<NDArray 1x2 @cpu(0)>\n"
     ]
    }
   ],
   "source": [
    "net.hybridize()\n",
    "print('=== net(x) ==={}'.format(net(x)))"
   ]
  },
  {
   "cell_type": "markdown",
   "metadata": {
    "slideshow": {
     "slide_type": "slide"
    }
   },
   "source": [
    "### Performance\n",
    "Compare the performance before and after hybridizing \n",
    "by measuring the time it takes to make 1000 forward passes through the network."
   ]
  },
  {
   "cell_type": "code",
   "execution_count": 21,
   "metadata": {
    "slideshow": {
     "slide_type": "fragment"
    }
   },
   "outputs": [],
   "source": [
    "from time import time\n",
    "def bench(net, x):\n",
    "    mx.nd.waitall()\n",
    "    start = time()\n",
    "    for i in range(1000):\n",
    "        y = net(x)\n",
    "    mx.nd.waitall()\n",
    "    return time() - start"
   ]
  },
  {
   "cell_type": "code",
   "execution_count": 22,
   "metadata": {
    "slideshow": {
     "slide_type": "fragment"
    }
   },
   "outputs": [
    {
     "name": "stdout",
     "output_type": "stream",
     "text": [
      "Before hybridizing: 0.6154 sec\n",
      "After hybridizing: 0.2194 sec\n"
     ]
    }
   ],
   "source": [
    "net = get_net()\n",
    "print('Before hybridizing: %.4f sec'%(bench(net, x)))\n",
    "net.hybridize()\n",
    "print('After hybridizing: %.4f sec'%(bench(net, x)))"
   ]
  },
  {
   "cell_type": "markdown",
   "metadata": {
    "slideshow": {
     "slide_type": "slide"
    }
   },
   "source": [
    "## let's dive deeper into how `hybridize` works.\n",
    "* Recall, Gluon networks are composed of Blocks each of which subclass `gluon.Block`\n",
    "* For hybrid networks, we have `gluon.HybridBlock`\n",
    "* To define a `HybridBlock`, we have to define a`hybrid_forward` function:"
   ]
  },
  {
   "cell_type": "markdown",
   "metadata": {
    "slideshow": {
     "slide_type": "slide"
    }
   },
   "source": [
    "## HybridBlock"
   ]
  },
  {
   "cell_type": "code",
   "execution_count": 23,
   "metadata": {
    "slideshow": {
     "slide_type": "fragment"
    }
   },
   "outputs": [],
   "source": [
    "from mxnet import gluon\n",
    "\n",
    "class Net(gluon.HybridBlock):\n",
    "    def __init__(self, **kwargs):\n",
    "        super(Net, self).__init__(**kwargs)\n",
    "        with self.name_scope():\n",
    "            self.fc1 = nn.Dense(256)\n",
    "            self.fc2 = nn.Dense(128)\n",
    "            self.fc3 = nn.Dense(2)\n",
    "\n",
    "    def hybrid_forward(self, F, x):\n",
    "        # F is a function space that depends on the type of x\n",
    "        # If x's type is NDArray, then F will be mxnet.nd\n",
    "        # If x's type is Symbol, then F will be mxnet.sym\n",
    "        print('type(x): {}, F: {}'.format(\n",
    "                type(x).__name__, F.__name__))\n",
    "        x = F.relu(self.fc1(x))\n",
    "        x = F.relu(self.fc2(x))\n",
    "        return self.fc3(x)"
   ]
  },
  {
   "cell_type": "code",
   "execution_count": 24,
   "metadata": {
    "slideshow": {
     "slide_type": "slide"
    }
   },
   "outputs": [
    {
     "name": "stdout",
     "output_type": "stream",
     "text": [
      "=== 1st forward ===\n",
      "type(x): NDArray, F: mxnet.ndarray\n",
      "=== 2nd forward ===\n",
      "type(x): NDArray, F: mxnet.ndarray\n"
     ]
    }
   ],
   "source": [
    "net = Net()\n",
    "net.collect_params().initialize()\n",
    "x = nd.random_normal(shape=(1, 512))\n",
    "print('=== 1st forward ===')\n",
    "y = net(x)\n",
    "print('=== 2nd forward ===')\n",
    "y = net(x)"
   ]
  },
  {
   "cell_type": "code",
   "execution_count": 25,
   "metadata": {
    "slideshow": {
     "slide_type": "fragment"
    }
   },
   "outputs": [
    {
     "name": "stdout",
     "output_type": "stream",
     "text": [
      "=== 1st forward ===\n",
      "type(x): Symbol, F: mxnet.symbol\n",
      "=== 2nd forward ===\n"
     ]
    }
   ],
   "source": [
    "net.hybridize()\n",
    "print('=== 1st forward ===')\n",
    "y = net(x)\n",
    "print('=== 2nd forward ===')\n",
    "y = net(x)"
   ]
  }
 ],
 "metadata": {
  "celltoolbar": "Slideshow",
  "kernelspec": {
   "display_name": "conda_mxnet_p36",
   "language": "python",
   "name": "conda_mxnet_p36"
  },
  "language_info": {
   "codemirror_mode": {
    "name": "ipython",
    "version": 3
   },
   "file_extension": ".py",
   "mimetype": "text/x-python",
   "name": "python",
   "nbconvert_exporter": "python",
   "pygments_lexer": "ipython3",
   "version": "3.6.5"
  }
 },
 "nbformat": 4,
 "nbformat_minor": 2
}

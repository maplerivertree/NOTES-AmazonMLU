{
 "cells": [
  {
   "cell_type": "markdown",
   "metadata": {},
   "source": [
    "# Deep Learning with MXNet Gluon - Assignment 1"
   ]
  },
  {
   "cell_type": "markdown",
   "metadata": {},
   "source": [
    "## Assignment Description\n",
    "\n",
    "\n",
    "Welcome to Deep Learning with MXNet/Gluon Week 1 assignment. This assignment will focus mainly on review of some prerequisites and the fundamentals of training neural networks. The first two questions will refresh our linear algebra with the help of `mxnet.ndarray`, and differential calculus with the help of `mxnet.autograd`. In the remaining questions, you will train a deep learning model to predict category of item of clothing from images. You will make use of the `gluon.Dataset` and `gluon.DataLoader` library for managing the training data, `gluon.HybridBlock` for creating your neural network model, and finally `gluon.Trainer` for training the model on your dataset.\n",
    "\n",
    "### Supplemental Reading\n",
    "* [Gluon Crash Course Videos](https://www.youtube.com/playlist?list=PLkEvNnRk8uVmVKRDgznk3o3LxmjFRaW7s)\n",
    "* [Linear Regression (Dive into deep learning)](https://d2l.ai/chapter_linear-networks/index.html)\n",
    "* [Multilayer Perceptron (Dive into deep learning)](https://d2l.ai/chapter_multilayer-perceptrons/index.html)\n",
    "* [Deep Learning Computation (Dive into deep learning)](https://d2l.ai/chapter_deep-learning-computation/index.html)"
   ]
  },
  {
   "cell_type": "code",
   "execution_count": 1,
   "metadata": {},
   "outputs": [],
   "source": [
    "#dataset\n",
    "\n",
    "import pandas as pd\n",
    "import numpy as np\n",
    "import matplotlib.pyplot as plt\n",
    "\n",
    "data = pd.read_csv('https://archive.ics.uci.edu/ml/machine-learning-databases/housing/housing.data', header = None, sep='\\s+')\n",
    "data.columns = ['CRIM','ZN', 'INDUS', 'CHAS', 'NOX', 'RM', 'AGE', 'DIS', 'RAD', 'TAX','PTRATIO', 'B', 'LSTAT', 'MEDV']\n",
    "X_train = data.loc[:, data.columns[:len(data.columns)-1]].values\n",
    "y_train = data.loc[:, data.columns[-1]].values\n",
    "\n",
    "def solve_ols_numpy(X, y):\n",
    "    X = np.hstack((X, np.ones((data.shape[0], 1))))\n",
    "    return np.linalg.inv(X.T.dot(X)).dot(X.T).dot(y)"
   ]
  },
  {
   "cell_type": "markdown",
   "metadata": {},
   "source": [
    "## Least squares Linear Regression\n",
    "\n",
    "You are probably familiar with linear regression and maybe have used libraries like sklearn or numpy to implement linear regression models. Here, we will implement the analytic solution to least squares linear regression using the mxnet `ndarray`. As you learned in lecture today, mxnet `ndarray` is similar to numpy `ndarray` and has support for performing matrix operations.\n",
    "\n",
    "The linear regression approach to modelling is to make the assumption that the relationship between your target variable (label) and your input variables (data) is linear. This relationship can be expressed mathematically, as\n",
    "\n",
    "$$ \\hat{y} = \\mathtt{Xw + w_0}$$\n",
    "\n",
    "where $\\mathtt{X}$ is your data, $\\hat{y}$ is your predicted label, $\\mathtt{w}$ is a vector of weights or coefficients for each column in the dataset, and $\\mathtt{w_0}$ is the intercept or bias.\n",
    "\n",
    "\n",
    "If we let $ X = [\\mathtt{X}, \\mathtt{1}]$ and $w = [\\mathtt{w, w_0}]$ then we can rewrite the above equation and simplify to just a simple matrix multiplication as \n",
    "\n",
    "$$ \\hat{y} = Xw$$\n",
    "\n",
    "\n",
    "To find the value of the weights $w$, we have to solve an optimization problem involving a loss function that tells how good our predictions are. The loss function we will be using is the least squares loss or l2 loss and it is given as\n",
    "    $$f(w) = ||Xw - y||^2$$ \n",
    "where $||.||$ denotes the $L_2$ norm and $y$ is your actual label value.\n",
    "\n",
    "The $w$ that minimizes the function above has a closed form solution and it is given as:\n",
    "\n",
    "$$ w = (X^TX)^{-1}X^Ty $$\n",
    "    "
   ]
  },
  {
   "cell_type": "markdown",
   "metadata": {},
   "source": [
    "## Question 1 \n",
    "Write code to calculate the value of $w$ using the close form solution above given the data matrix $\\mathtt{X}$ and data labels $y$ using mxnet `ndarray`. It might make things easier if you organize your code in a function like `solve_ols_numpy` above. Here are some guidelines to help with the implementation.\n",
    "\n",
    "* First create `mxnet.ndarray` representations of X_train and y_train\n",
    "* Don't forget to create an `mxnet.ndarray` column vector of ones, for the intecept, with the same number of rows as X_train and concatenate X_train with the column vector of ones\n",
    "* Use the `mxnet.nd.linalg.potri` and `mxnet.nd.linalg.potrf` functions to compute the inverse. For example to compute the inverse of a matrix M, you can run `nd.linalg.potri(nd.linalg.potrf(M))`. MXNet does not have a generic matrix inverse operator because all operators need to be differentiable, but luckily our Gramian matrix $X^TX$ is symmetric and positive definite so we can use the [cholesky decomposition](https://en.wikipedia.org/wiki/Cholesky_decomposition) to compute its inverse.\n",
    "\n",
    "Compare your results with the results of using the pure numpy `solve_ols_numpy` function defined above.\n",
    "\n",
    "Try timing your code and then changing the contexts of your mxnet ndarrays to gpu. Did you notice any speed difference. Can you explain the difference in speed? Also time how long `solve_ols_numpy` takes to run. What do you observe?"
   ]
  },
  {
   "cell_type": "code",
   "execution_count": 2,
   "metadata": {},
   "outputs": [],
   "source": [
    "# Answer 1 \n",
    "import mxnet as mx\n",
    "from mxnet import nd\n",
    "\n",
    "# Your code here\n",
    "def solve_ols_mxnet(X, y, ctx=mx.cpu()):\n",
    "    X = nd.concat(X, nd.ones((X.shape[0], 1), ctx=ctx), dim=1)\n",
    "    return nd.dot(nd.dot(nd.linalg.potri(nd.linalg.potrf(nd.dot(X.T, X))), X.T), y)"
   ]
  },
  {
   "cell_type": "code",
   "execution_count": 3,
   "metadata": {},
   "outputs": [
    {
     "name": "stdout",
     "output_type": "stream",
     "text": [
      "[-1.08011358e-01  4.64204584e-02  2.05586264e-02  2.68673382e+00\n",
      " -1.77666112e+01  3.80986521e+00  6.92224640e-04 -1.47556685e+00\n",
      "  3.06049479e-01 -1.23345939e-02 -9.52747232e-01  9.31168327e-03\n",
      " -5.24758378e-01  3.64594884e+01]\n",
      "CPU times: user 79.3 ms, sys: 78.9 ms, total: 158 ms\n",
      "Wall time: 54.6 ms\n"
     ]
    }
   ],
   "source": [
    "%%time\n",
    "print(solve_ols_numpy(X_train, y_train))"
   ]
  },
  {
   "cell_type": "code",
   "execution_count": 4,
   "metadata": {},
   "outputs": [],
   "source": [
    "X_train, y_train = nd.array(X_train), nd.array(y_train)"
   ]
  },
  {
   "cell_type": "code",
   "execution_count": 5,
   "metadata": {},
   "outputs": [
    {
     "name": "stdout",
     "output_type": "stream",
     "text": [
      "\n",
      "[-1.0800998e-01  4.6421096e-02  2.0573609e-02  2.6868079e+00\n",
      " -1.7764294e+01  3.8105152e+00  6.8673119e-04 -1.4754937e+00\n",
      "  3.0600709e-01 -1.2332764e-02 -9.5259166e-01  9.3131931e-03\n",
      " -5.2472472e-01  3.6449818e+01]\n",
      "<NDArray 14 @cpu(0)>\n",
      "CPU times: user 1.31 s, sys: 1.12 s, total: 2.43 s\n",
      "Wall time: 169 ms\n"
     ]
    }
   ],
   "source": [
    "%%time\n",
    "print(solve_ols_mxnet(X_train, y_train))"
   ]
  },
  {
   "cell_type": "code",
   "execution_count": 6,
   "metadata": {},
   "outputs": [],
   "source": [
    "X_train, y_train = X_train.as_in_context(mx.gpu(0)), y_train.as_in_context(mx.gpu(0))"
   ]
  },
  {
   "cell_type": "code",
   "execution_count": 7,
   "metadata": {},
   "outputs": [
    {
     "name": "stdout",
     "output_type": "stream",
     "text": [
      "\n",
      "[-1.0801238e-01  4.6418693e-02  2.0572171e-02  2.6867003e+00\n",
      " -1.7768848e+01  3.8096497e+00  6.9505069e-04 -1.4755456e+00\n",
      "  3.0606851e-01 -1.2334810e-02 -9.5284563e-01  9.3108136e-03\n",
      " -5.2476704e-01  3.6463341e+01]\n",
      "<NDArray 14 @gpu(0)>\n",
      "CPU times: user 545 ms, sys: 272 ms, total: 817 ms\n",
      "Wall time: 816 ms\n"
     ]
    }
   ],
   "source": [
    "%%time\n",
    "print(solve_ols_mxnet(X_train, y_train, ctx=mx.gpu(0)))"
   ]
  },
  {
   "cell_type": "markdown",
   "metadata": {},
   "source": [
    "## Answer 1\n",
    "\n",
    "Your answer here"
   ]
  },
  {
   "cell_type": "markdown",
   "metadata": {},
   "source": [
    "## Gradient descent with `autograd`\n",
    "\n",
    "Earlier, we saw how to use `mxnet.ndarray` operations to solve ordinary least squares linear regression. Luckily we were able to do this because a closed-form solution exists for minimizing our loss function. In general, we are not always so lucky that a closed form solution exists. For example if we modify the loss function above slightly to include an $L_1$ regularization term like \n",
    "\n",
    "$$f(w) = \\frac{1}{n}||Xw - y||_2^2 + \\lambda||w||_1$$\n",
    "\n",
    "then no closed form solution exists. \n",
    "\n",
    "Instead, we can turn to a trusted general-purpose algorithm for minimizing any arbitrary function that has a derivative - gradient descent. gradient descent is an iterative algorithm that starts with an initialization for the values of our weights and successively refines the values of the weights by moving them in the direction of the negative gradient. \n",
    "\n",
    "Take a look again at the loss function above. Can you compute the derivative for it? If your answer is no, then no need to fret. That's what `autograd` is here for. We will implement gradient descent to solve the $L_1$ regularized version of OLS using only `mnxet.ndarray` and `mxnet.autograd` and you won't have to compute any derivatives by hand."
   ]
  },
  {
   "cell_type": "markdown",
   "metadata": {},
   "source": [
    "## Question 2\n",
    "\n",
    "Write code to calculate the value of $w$ using minibatch gradient descent given the data matrix $\\mathtt{X}$ and data labels $y$.  Here are some guidelines to help with the implementation.\n",
    "\n",
    "* Fill in the code for the loss function which simply computes the $L_1$ regularized loss above\n",
    "* Fill in the code for the optimize function which performs a single gradient descent update step. Make sure the weight changes are in place. Also normalize the gradient by the batch-size\n",
    "* Fill in the code for the train function using the default parameters in the argument.\n",
    "    * Initialize w with a standard normal distribution\n",
    "    * In your training loop, use the autograd scope to record the computations need to compute the loss so you can compute the gradient\n",
    " \n"
   ]
  },
  {
   "cell_type": "code",
   "execution_count": 8,
   "metadata": {},
   "outputs": [
    {
     "data": {
      "text/plain": [
       "Text(0, 0.5, 'Mean loss')"
      ]
     },
     "execution_count": 8,
     "metadata": {},
     "output_type": "execute_result"
    },
    {
     "data": {
      "image/png": "[encoded data removed]",
      "text/plain": [
       "<Figure size 576x432 with 1 Axes>"
      ]
     },
     "metadata": {},
     "output_type": "display_data"
    }
   ],
   "source": [
    "from mxnet import autograd\n",
    "\n",
    "def loss_fn(X, w, y, lambd):\n",
    "    # Your code here\n",
    "    return nd.mean((nd.dot(X, w) - y)**2) + lambd*nd.norm(w, ord=1)\n",
    "\n",
    "def optimize(w, lr, batch_size):\n",
    "    # Your code here\n",
    "    w -= (lr/batch_size) * w.grad\n",
    "\n",
    "def train(X, y, lambd=0.1, lr=0.001, batch_size=506, epochs=50, ctx=mx.cpu()):\n",
    "    loss_sequence = []\n",
    "    \n",
    "    # Your code here\n",
    "    \n",
    "    X, y = nd.array(X, ctx=ctx), nd.array(y, ctx=ctx)\n",
    "    X = nd.concat(X, nd.ones((X.shape[0], 1), ctx=ctx), dim=1)\n",
    "    w = nd.random_normal(shape=(X.shape[1],1), ctx=ctx)\n",
    "    w.attach_grad()\n",
    "    \n",
    "    for epoch in range(epochs):\n",
    "        with autograd.record():\n",
    "            l = loss_fn(X, w, y, lambd)\n",
    "        l.backward()\n",
    "        optimize(w, lr, batch_size)\n",
    "        loss_sequence.append(l.asscalar())\n",
    "        \n",
    "    # end implementation\n",
    "    return loss_sequence\n",
    "\n",
    "losses = train(X_train, y_train)\n",
    "\n",
    "plt.figure(num=None,figsize=(8, 6))\n",
    "plt.plot(losses)\n",
    "plt.xlabel('iteration',fontsize=14)\n",
    "plt.ylabel('Mean loss',fontsize=14)\n",
    "    "
   ]
  },
  {
   "cell_type": "markdown",
   "metadata": {},
   "source": [
    "## Answer 2\n",
    "\n",
    "Your answer here"
   ]
  },
  {
   "cell_type": "markdown",
   "metadata": {},
   "source": [
    "## Fashion MNIST\n",
    "\n",
    "The most commonly used image classification data set is the MNIST handwritten digit recognition data set, proposed by LeCun, Cortes and Burges in the 1990s. However, even simple (shallow) models achieve classification accuracy over 95% on MNIST. In order to get a better intuition, we will use the qualitatively similar, but comparatively complex Fashion-MNIST dataset, proposed by Xiao, Rasul and Vollgraf in 2017. The goal is no longer to classify numbers, but clothing types instead.\n",
    "\n",
    "The dataset can be automatically downloaded through Gluon's data.vision.datasets module. The following code downloads the training dataset and shows the first example."
   ]
  },
  {
   "cell_type": "code",
   "execution_count": 9,
   "metadata": {},
   "outputs": [
    {
     "name": "stdout",
     "output_type": "stream",
     "text": [
      "Downloading /home/ec2-user/.mxnet/datasets/fashion-mnist/train-images-idx3-ubyte.gz from https://apache-mxnet.s3-accelerate.dualstack.amazonaws.com/gluon/dataset/fashion-mnist/train-images-idx3-ubyte.gz...\n",
      "Downloading /home/ec2-user/.mxnet/datasets/fashion-mnist/train-labels-idx1-ubyte.gz from https://apache-mxnet.s3-accelerate.dualstack.amazonaws.com/gluon/dataset/fashion-mnist/train-labels-idx1-ubyte.gz...\n",
      "Downloading /home/ec2-user/.mxnet/datasets/fashion-mnist/t10k-images-idx3-ubyte.gz from https://apache-mxnet.s3-accelerate.dualstack.amazonaws.com/gluon/dataset/fashion-mnist/t10k-images-idx3-ubyte.gz...\n",
      "Downloading /home/ec2-user/.mxnet/datasets/fashion-mnist/t10k-labels-idx1-ubyte.gz from https://apache-mxnet.s3-accelerate.dualstack.amazonaws.com/gluon/dataset/fashion-mnist/t10k-labels-idx1-ubyte.gz...\n",
      "Number of images: 60000\n"
     ]
    },
    {
     "data": {
      "image/png": "[encoded data removed]",
      "text/plain": [
       "<Figure size 1080x1080 with 6 Axes>"
      ]
     },
     "metadata": {},
     "output_type": "display_data"
    }
   ],
   "source": [
    "from mxnet import gluon\n",
    "from mxnet.gluon.data.vision import datasets\n",
    "\n",
    "fashion_mnist_train = datasets.FashionMNIST(train=True)\n",
    "fashion_mnist_valid = datasets.FashionMNIST(train=False)\n",
    "\n",
    "print(\"Number of images: %d\" % len(fashion_mnist_train))\n",
    "\n",
    "text_labels = [\n",
    "    't-shirt', 'trouser', 'pullover', 'dress', 'coat',\n",
    "    'sandal', 'shirt', 'sneaker', 'bag', 'ankle boot'\n",
    "]\n",
    "def plot_images(X, y):\n",
    "    # plot images\n",
    "    _, figs = plt.subplots(1, X.shape[0], figsize=(15, 15))\n",
    "    for f,x,yi in zip(figs, X,y):\n",
    "        # 3D->2D by removing the last channel dim\n",
    "        f.imshow(x.reshape((28,28)).asnumpy())\n",
    "        ax = f.axes\n",
    "        ax.set_title(text_labels[int(yi)])\n",
    "        ax.title.set_fontsize(20)\n",
    "        ax.get_xaxis().set_visible(False)\n",
    "        ax.get_yaxis().set_visible(False)\n",
    "    plt.show()\n",
    "    \n",
    "X, y = fashion_mnist_train[0:6]\n",
    "plot_images(X, y)"
   ]
  },
  {
   "cell_type": "markdown",
   "metadata": {},
   "source": [
    "## Question 3\n",
    "\n",
    "The training and validation dataset and stored into a gluon `dataset`. However, in order to get good performance on our dataset, we must do some preprocessing on the data. For example, We will have to normalize the image data.\n",
    "\n",
    "Write code to using `transforms.Compose` to convert the images to tensor representation in `CHW` format and then normalize the dataset. Take a look at [ToTensor](https://mxnet.incubator.apache.org/api/python/gluon/data.html#mxnet.gluon.data.vision.transforms.ToTensor) and [Normalize](https://mxnet.incubator.apache.org/api/python/gluon/data.html#mxnet.gluon.data.vision.transforms.Normalize) to learn how to do this. To normalize, use the `normalize_mean` and `normalize_stdev` variables provided below. \n",
    "\n",
    "Next, write code to create a `gluon.data.DataLoader` that's able to take batches of data from your transformed dataset and feed into your network. Use the batch_size variable provided below. Make sure the **training** dataloader shuffles the data at each epoch.\n",
    "\n",
    "After transforming your dataset, what is the shape of each training image."
   ]
  },
  {
   "cell_type": "code",
   "execution_count": 10,
   "metadata": {},
   "outputs": [],
   "source": [
    "from mxnet.gluon.data.vision import transforms\n",
    "batch_size = 256\n",
    "normalize_mean = 0.13\n",
    "normalize_stdev = 0.31\n",
    "\n",
    "# Your code here.\n",
    "\n",
    "transformer = transforms.Compose([\n",
    "    transforms.ToTensor(),\n",
    "    transforms.Normalize(0.13, 0.31)])\n",
    "\n",
    "\n",
    "\n",
    "train_data = gluon.data.DataLoader(fashion_mnist_valid.transform_first(transformer),\n",
    "                                   batch_size=batch_size, \n",
    "                                   shuffle=True, \n",
    "                                   num_workers=4)\n",
    "\n",
    "valid_data = gluon.data.DataLoader(fashion_mnist_valid.transform_first(transformer),\n",
    "                                   batch_size=batch_size, \n",
    "                                   num_workers=4)"
   ]
  },
  {
   "cell_type": "markdown",
   "metadata": {},
   "source": [
    "## LeNet\n",
    "\n",
    "Now it's time to construct our neural network architecture. Since we are dealing with image data we will get better performance on this dataset with a convolutional neural network. We will go into the details of designing Convolutional Neural Networks in the next class but for now we will be using a specific network known as [LeNet](http://yann.lecun.com/exdb/publis/pdf/lecun-01a.pdf) network architeture introduced by LeCun et al for the handwritten digit recognition on the MNIST data set. The network has the following structure: 2 convolutional blocks, 2 fully connected hidden layers and an output layer. A typical convolutonal block consists of A convolution layer, followed by the activation function and then a pooling layer. \n",
    "\n",
    "![lenet](https://cdn-images-1.medium.com/max/2400/1*1TI1aGBZ4dybR6__DI9dzA.png)\n",
    "\n",
    "The LeNet paper used `tanh` as the activation functions, but we will use `relu` here since it's easy to train and gives better performance typically. We will also use max pooling since it works better in practice as well.\n",
    "\n",
    "We will initialize the parameters of network with the Xavier initialization method which is a popular choice for convolutional neural networks.\n"
   ]
  },
  {
   "cell_type": "markdown",
   "metadata": {},
   "source": [
    "## Question 4\n",
    "\n",
    "Write code to compute the forward pass of the network by filling in the `hybrid_forward` function below.\n",
    "\n",
    "Here are some guidelines. \n",
    "* Remember to apply the activation function `relu` on the outputs of the convolution layer before applying the pool layer.\n",
    "* Reshape the output of the second convolutional block so that you have a flat vector that goes into your fully connected layers. \n"
   ]
  },
  {
   "cell_type": "code",
   "execution_count": 11,
   "metadata": {},
   "outputs": [
    {
     "name": "stdout",
     "output_type": "stream",
     "text": [
      "LeNet(\n",
      "  (conv1): Conv2D(None -> 6, kernel_size=(5, 5), stride=(1, 1))\n",
      "  (pool1): MaxPool2D(size=(2, 2), stride=(2, 2), padding=(0, 0), ceil_mode=False, global_pool=False, pool_type=max, layout=NCHW)\n",
      "  (conv2): Conv2D(None -> 16, kernel_size=(3, 3), stride=(1, 1))\n",
      "  (pool2): MaxPool2D(size=(2, 2), stride=(2, 2), padding=(0, 0), ceil_mode=False, global_pool=False, pool_type=max, layout=NCHW)\n",
      "  (hidden1): Dense(None -> 120, linear)\n",
      "  (hidden2): Dense(None -> 84, linear)\n",
      "  (out): Dense(None -> 10, linear)\n",
      ")\n"
     ]
    }
   ],
   "source": [
    "from mxnet.gluon import nn, HybridBlock\n",
    "\n",
    "class LeNet(HybridBlock):\n",
    "    def __init__(self):\n",
    "        super(LeNet, self).__init__()\n",
    "        with self.name_scope():\n",
    "            self.conv1 = nn.Conv2D(channels=6, kernel_size=5)\n",
    "            self.pool1 = nn.MaxPool2D(pool_size=2, strides=2)\n",
    "            self.conv2 = nn.Conv2D(channels=16, kernel_size=3)\n",
    "            self.pool2 =  nn.MaxPool2D(pool_size=2, strides=2)\n",
    "            self.hidden1 = nn.Dense(120)\n",
    "            self.hidden2 = nn.Dense(84)\n",
    "            self.out = nn.Dense(10)\n",
    "    \n",
    "    def hybrid_forward(self, F, x):\n",
    "        ## your code here\n",
    "        feature_maps_1 = self.pool1(F.relu(self.conv1(x)))\n",
    "        feature_maps_2 =self.pool2(F.relu(self.conv2(feature_maps_1)))\n",
    "        flat = feature_maps_2.reshape((0, -1))\n",
    "        hidden = F.relu(self.hidden2(F.relu(self.hidden1(flat))))\n",
    "        return self.out(hidden)\n",
    "\n",
    "net = LeNet()\n",
    "net.initialize(mx.init.Xavier())\n",
    "print(net)"
   ]
  },
  {
   "cell_type": "markdown",
   "metadata": {},
   "source": [
    "## Time to train"
   ]
  },
  {
   "cell_type": "markdown",
   "metadata": {},
   "source": [
    "## Question 5\n",
    "Now, write code to perform the training loop. Use the gluon `SoftmaxCrossEntropyLoss` loss function and `sgd` optimizer with a learning rate of `0.1`. Run training for 10 epochs and plot the training and validation accuracy at each epoch.\n",
    "\n",
    "Try out different optimizers and values for the learning rate. Does your accuracy change? The learning rate and choice of optimizer are known as hyperparameters as they are parameters that are not learned by the network but can influence the values of the learned parameters and as such the performance of the network. Briefly, describe you might try to optimizer the values for the hyperparameters."
   ]
  },
  {
   "cell_type": "code",
   "execution_count": 12,
   "metadata": {},
   "outputs": [
    {
     "name": "stdout",
     "output_type": "stream",
     "text": [
      "Epoch[0] Loss:1.638 Acc:0.438|0.666 Perf: 58681.9 img/sec\n",
      "Epoch[1] Loss:0.810 Acc:0.695|0.759 Perf: 62190.0 img/sec\n",
      "Epoch[2] Loss:0.646 Acc:0.752|0.797 Perf: 65632.3 img/sec\n",
      "Epoch[3] Loss:0.558 Acc:0.790|0.798 Perf: 63744.6 img/sec\n",
      "Epoch[4] Loss:0.523 Acc:0.805|0.791 Perf: 63099.1 img/sec\n",
      "Epoch[5] Loss:0.484 Acc:0.818|0.823 Perf: 65081.5 img/sec\n",
      "Epoch[6] Loss:0.448 Acc:0.833|0.846 Perf: 66583.4 img/sec\n",
      "Epoch[7] Loss:0.445 Acc:0.833|0.847 Perf: 64444.7 img/sec\n",
      "Epoch[8] Loss:0.407 Acc:0.847|0.850 Perf: 66002.6 img/sec\n",
      "Epoch[9] Loss:0.394 Acc:0.854|0.854 Perf: 64796.4 img/sec\n"
     ]
    }
   ],
   "source": [
    "from time import time\n",
    "\n",
    "def acc(output, label):\n",
    "    # output: (batch, num_output) float32 ndarray\n",
    "    # label: (batch, ) int32 ndarray\n",
    "    acc = (output.argmax(axis=1) == label.astype('float32'))\n",
    "    return acc.mean().asscalar()\n",
    "\n",
    "# Your code here\n",
    "softmax_cross_entropy = gluon.loss.SoftmaxCrossEntropyLoss()\n",
    "trainer = gluon.Trainer(net.collect_params(),\n",
    "                        'sgd', {'learning_rate': 0.1})\n",
    "\n",
    "losses, train_accuracies, validation_accuracies = [], [], []\n",
    "\n",
    "for epoch in range(10):\n",
    "    train_loss, train_acc, valid_acc = 0., 0., 0.\n",
    "    tic = time()\n",
    "    for data, label in train_data:\n",
    "        with autograd.record():\n",
    "            output = net(data)\n",
    "            loss = softmax_cross_entropy(output, label)\n",
    "        loss.backward()\n",
    "        \n",
    "        trainer.step(batch_size)\n",
    "        \n",
    "        train_loss += loss.mean().asscalar()\n",
    "        train_acc += acc(output, label)\n",
    "    \n",
    "    for validation_data, validation_label in valid_data:\n",
    "        validation_output = net(validation_data)\n",
    "        valid_acc += acc(validation_output, validation_label)\n",
    "        \n",
    "  \n",
    "    print(\"Epoch[%d] Loss:%.3f Acc:%.3f|%.3f Perf: %.1f img/sec\"%(\n",
    "        epoch, train_loss/len(train_data),\n",
    "        train_acc/len(train_data),\n",
    "        valid_acc/len(valid_data), \n",
    "        len(fashion_mnist_train)/(time()-tic)))\n",
    "    \n",
    "    losses.append(train_loss/len(train_data))\n",
    "    train_accuracies.append(train_acc/len(train_data) )\n",
    "    validation_accuracies.append(valid_acc/len(valid_data))\n"
   ]
  },
  {
   "cell_type": "code",
   "execution_count": 13,
   "metadata": {},
   "outputs": [
    {
     "data": {
      "text/plain": [
       "(0, 1)"
      ]
     },
     "execution_count": 13,
     "metadata": {},
     "output_type": "execute_result"
    },
    {
     "data": {
      "image/png": "[encoded data removed]",
      "text/plain": [
       "<Figure size 576x432 with 1 Axes>"
      ]
     },
     "metadata": {},
     "output_type": "display_data"
    },
    {
     "data": {
      "image/png": "[encoded data removed]",
      "text/plain": [
       "<Figure size 576x432 with 1 Axes>"
      ]
     },
     "metadata": {},
     "output_type": "display_data"
    }
   ],
   "source": [
    "plt.figure(num=None,figsize=(8, 6))\n",
    "plt.plot(losses)\n",
    "plt.xlabel('Epoch',fontsize=14)\n",
    "plt.ylabel('Mean loss',fontsize=14)\n",
    "\n",
    "plt.figure(num=None,figsize=(8, 6))\n",
    "plt.plot(range(10), train_accuracies, range(10), validation_accuracies)\n",
    "plt.xlabel('Epoch',fontsize=14)\n",
    "plt.ylabel('Accuracy',fontsize=14)\n",
    "plt.legend(['train accuracy', 'validation accuracy'])\n",
    "plt.ylim([0, 1])"
   ]
  }
 ],
 "metadata": {
  "kernelspec": {
   "display_name": "conda_mxnet_p36",
   "language": "python",
   "name": "conda_mxnet_p36"
  },
  "language_info": {
   "codemirror_mode": {
    "name": "ipython",
    "version": 3
   },
   "file_extension": ".py",
   "mimetype": "text/x-python",
   "name": "python",
   "nbconvert_exporter": "python",
   "pygments_lexer": "ipython3",
   "version": "3.6.5"
  }
 },
 "nbformat": 4,
 "nbformat_minor": 2
}

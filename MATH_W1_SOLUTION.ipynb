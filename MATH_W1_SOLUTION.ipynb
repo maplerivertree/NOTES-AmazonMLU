{
 "cells": [
  {
   "cell_type": "code",
   "execution_count": 7,
   "metadata": {},
   "outputs": [
    {
     "data": {
      "image/png": "[encoded data removed]",
      "text/plain": [
       "<Figure size 432x288 with 1 Axes>"
      ]
     },
     "metadata": {
      "needs_background": "light"
     },
     "output_type": "display_data"
    },
    {
     "data": {
      "image/png": "[encoded data removed]",
      "text/plain": [
       "<Figure size 432x288 with 1 Axes>"
      ]
     },
     "metadata": {
      "needs_background": "light"
     },
     "output_type": "display_data"
    }
   ],
   "source": [
    "import numpy as np\n",
    "import pandas as pd\n",
    "import matplotlib.pyplot as plt\n",
    "from sklearn.datasets import load_digits\n",
    "from sklearn.model_selection import train_test_split\n",
    "\n",
    "X, y = load_digits(n_class = 2, return_X_y = True)\n",
    "X_train, X_test, y_train, y_test = train_test_split(X,y,random_state = 8675309)\n",
    "\n",
    "# Plot two examples\n",
    "plt.imshow(X[0].reshape(8,8),cmap='Greys')\n",
    "plt.show()\n",
    "plt.imshow(X[1].reshape(8,8),cmap='Greys')\n",
    "plt.show()"
   ]
  },
  {
   "cell_type": "code",
   "execution_count": 8,
   "metadata": {},
   "outputs": [
    {
     "name": "stdout",
     "output_type": "stream",
     "text": [
      "(64,) is the dimension of X[0]\n",
      "-22.0 is the thirteenth component of (X[0] minus two times X[1]\n",
      "59.6 is the Euclidean distance\n",
      "335.0 is the L2 distance\n",
      "16.0 is the L infinite distance\n"
     ]
    }
   ],
   "source": [
    "#QESTION 1\n",
    "import math\n",
    "l2_norm_b = math.sqrt(sum([(a-b)**2 for a, b in zip(X[1], X[0])]))\n",
    "l1_norm = np.linalg.norm(X[0] - X[1],1)\n",
    "l_infi_norm = np.linalg.norm(X[0] - X[1], np.inf)\n",
    "\n",
    "print(str(X[0].shape) + \" is the dimension of X[0]\")\n",
    "print(str((X[0]-2*X[1])[12]) + \" is the thirteenth component of (X[0] minus two times X[1]\")\n",
    "print(str(round(l2_norm_b,1)) + \" is the Euclidean distance\")\n",
    "print(str(l1_norm) + \" is the L2 distance\")\n",
    "print(str(l_infi_norm) + \" is the L infinite distance\")"
   ]
  },
  {
   "cell_type": "code",
   "execution_count": 3,
   "metadata": {},
   "outputs": [
    {
     "data": {
      "text/plain": [
       "(1, 1, 0, 1)"
      ]
     },
     "execution_count": 3,
     "metadata": {},
     "output_type": "execute_result"
    }
   ],
   "source": [
    "#QUESTION 2\n",
    "def l2_norm(alpha, beta):\n",
    "    \n",
    "    # using axis to force the direction of the calculation\n",
    "    #l2_norm_b = np.round(np.linalg.norm(alpha-beta, ord = 2, axis = 1),0)\n",
    "    #l2_norm_b = np.round(np.linalg.norm(alpha-beta, ord = 2, axis = 0),0)\n",
    "    \n",
    "    l2_norm_b = np.linalg.norm(alpha-beta, ord = 2, axis = 1)\n",
    "    #a=(\"The shape of result of L2_norm is \" + str(l2_norm_b.shape))\n",
    "    if len(l2_norm_b) == len(y_train):\n",
    "        return l2_norm_b\n",
    "    else:\n",
    "        print(\"0\")\n",
    "        \n",
    "def knn(x_in, k):\n",
    "    norm_result = np.round(l2_norm(x_in, X_train),0)\n",
    "    \n",
    "    #pair the X_text - X_train result with y_lable\n",
    "    paired_result = list(zip(norm_result, y_train))\n",
    "    #pint(paired_result)\n",
    "    \n",
    "    #sorted by the first column x:x[0]\n",
    "    # https://www.geeksforgeeks.org/python-ways-to-sort-a-zipped-list-by-values/\n",
    "    sorted_paired_result = sorted(paired_result, key = lambda x:x[0])\n",
    "    #pint(sorted_paired_result)\n",
    "    \n",
    "    a = np.sum(sorted_paired_result[0:5], axis = 0)\n",
    "    \n",
    "    if a[1]> np.round(k/2, 0):\n",
    "        return 1\n",
    "    else:\n",
    "        return 0\n",
    "\n",
    "\n",
    "knn(X_test[0], 5), knn(X_test[1], 5), knn(X_test[2], 5), knn(X_test[3], 5)"
   ]
  },
  {
   "cell_type": "code",
   "execution_count": 4,
   "metadata": {
    "scrolled": true
   },
   "outputs": [
    {
     "name": "stdout",
     "output_type": "stream",
     "text": [
      "[1 1 0 1 0 1 1 1 1 0 0 1 0 0 1 1 0 0 1 1 1 1 0 1 1 0 1 0 1 1 0 0 1 1 1 0 0\n",
      " 1 0 0 1 0 1 1 0 0 1 0 0 0 0 1 1 1 1 1 0 0 1 1 1 0 0 0 1 0 0 1 0 1 0 0 1 0\n",
      " 1 1 0 1 1 0 0 0 0 1 1 0 0 1 0 1]\n"
     ]
    }
   ],
   "source": [
    "print(y_test)"
   ]
  },
  {
   "cell_type": "code",
   "execution_count": 5,
   "metadata": {},
   "outputs": [
    {
     "data": {
      "text/plain": [
       "90"
      ]
     },
     "execution_count": 5,
     "metadata": {},
     "output_type": "execute_result"
    }
   ],
   "source": [
    "X_test.shape[0]"
   ]
  },
  {
   "cell_type": "code",
   "execution_count": 6,
   "metadata": {},
   "outputs": [
    {
     "name": "stdout",
     "output_type": "stream",
     "text": [
      "100.0% accuracy for 90 tests\n"
     ]
    }
   ],
   "source": [
    "#QUESTION 3\n",
    "\n",
    "y_test_l2_norm = []\n",
    "for i in range(X_test.shape[0]):\n",
    "    y_test_l2_norm.append(knn(X_test[i], 5))\n",
    "\n",
    "#print(y_test_l2_norm)\n",
    "pair = list(zip(y_test_l2_norm, y_test))\n",
    "#print(pair)\n",
    "y = np.sum(pair, axis = 1)\n",
    "\n",
    "score = 0\n",
    "for i in y:\n",
    "    if i != 1:\n",
    "        score += 1\n",
    "\n",
    "print(str(score/y_test.shape[0]*100) + \"% accuracy for \" + str(len(y_test)) + \" tests\") \n",
    "\n"
   ]
  },
  {
   "cell_type": "code",
   "execution_count": null,
   "metadata": {},
   "outputs": [],
   "source": []
  },
  {
   "cell_type": "code",
   "execution_count": null,
   "metadata": {},
   "outputs": [],
   "source": []
  }
 ],
 "metadata": {
  "kernelspec": {
   "display_name": "Python 3",
   "language": "python",
   "name": "python3"
  },
  "language_info": {
   "codemirror_mode": {
    "name": "ipython",
    "version": 3
   },
   "file_extension": ".py",
   "mimetype": "text/x-python",
   "name": "python",
   "nbconvert_exporter": "python",
   "pygments_lexer": "ipython3",
   "version": "3.7.1"
  }
 },
 "nbformat": 4,
 "nbformat_minor": 2
}
